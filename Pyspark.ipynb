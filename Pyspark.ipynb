{
 "cells": [
  {
   "cell_type": "code",
   "execution_count": 3,
   "id": "36eb0ad4",
   "metadata": {},
   "outputs": [
    {
     "name": "stdout",
     "output_type": "stream",
     "text": [
      "Defaulting to user installation because normal site-packages is not writeable\n",
      "Requirement already satisfied: findspark in c:\\users\\axp210092\\appdata\\roaming\\python\\python39\\site-packages (2.0.1)\n",
      "Note: you may need to restart the kernel to use updated packages.\n"
     ]
    },
    {
     "name": "stderr",
     "output_type": "stream",
     "text": [
      "WARNING: Ignoring invalid distribution -rotobuf (c:\\users\\axp210092\\appdata\\roaming\\python\\python39\\site-packages)\n",
      "WARNING: Ignoring invalid distribution -rotobuf (c:\\users\\axp210092\\appdata\\roaming\\python\\python39\\site-packages)\n",
      "WARNING: Ignoring invalid distribution -rotobuf (c:\\users\\axp210092\\appdata\\roaming\\python\\python39\\site-packages)\n",
      "WARNING: Ignoring invalid distribution -rotobuf (c:\\users\\axp210092\\appdata\\roaming\\python\\python39\\site-packages)\n",
      "WARNING: Ignoring invalid distribution -rotobuf (c:\\users\\axp210092\\appdata\\roaming\\python\\python39\\site-packages)\n",
      "WARNING: Ignoring invalid distribution -rotobuf (c:\\users\\axp210092\\appdata\\roaming\\python\\python39\\site-packages)\n"
     ]
    }
   ],
   "source": [
    "# !pip install findspark"
   ]
  },
  {
   "cell_type": "code",
   "execution_count": 125,
   "id": "9b17ca5d",
   "metadata": {},
   "outputs": [],
   "source": [
    "import os\n",
    "import sys\n",
    "\n",
    "os.environ['PYSPARK_PYTHON'] = sys.executable\n",
    "os.environ['PYSPARK_DRIVER_PYTHON'] = sys.executable"
   ]
  },
  {
   "cell_type": "code",
   "execution_count": 41,
   "id": "f8d09ce0",
   "metadata": {},
   "outputs": [
    {
     "data": {
      "text/plain": [
       "'C:\\\\spark-3.3.1-bin-hadoop3'"
      ]
     },
     "execution_count": 41,
     "metadata": {},
     "output_type": "execute_result"
    }
   ],
   "source": [
    "#Testing pyspark installation\n",
    "import findspark\n",
    "findspark.init()\n",
    "findspark.find()\n",
    "import pyspark\n",
    "findspark.find()"
   ]
  },
  {
   "cell_type": "code",
   "execution_count": 42,
   "id": "fb163aec",
   "metadata": {},
   "outputs": [],
   "source": [
    "#Initiate Spark Context\n",
    "from pyspark import SparkContext, SparkConf\n",
    "from pyspark.sql import SparkSession\n",
    "conf = pyspark.SparkConf().setAppName('SparkApp').setMaster('local[*]')\n",
    "sc = pyspark.SparkContext(conf=conf)\n",
    "spark  = SparkSession(sc)"
   ]
  },
  {
   "cell_type": "code",
   "execution_count": 43,
   "id": "8cb0e705",
   "metadata": {},
   "outputs": [
    {
     "data": {
      "text/html": [
       "\n",
       "            <div>\n",
       "                <p><b>SparkSession - in-memory</b></p>\n",
       "                \n",
       "        <div>\n",
       "            <p><b>SparkContext</b></p>\n",
       "\n",
       "            <p><a href=\"http://UTD92212.campus.ad.utdallas.edu:4040\">Spark UI</a></p>\n",
       "\n",
       "            <dl>\n",
       "              <dt>Version</dt>\n",
       "                <dd><code>v3.3.1</code></dd>\n",
       "              <dt>Master</dt>\n",
       "                <dd><code>local[*]</code></dd>\n",
       "              <dt>AppName</dt>\n",
       "                <dd><code>SparkApp</code></dd>\n",
       "            </dl>\n",
       "        </div>\n",
       "        \n",
       "            </div>\n",
       "        "
      ],
      "text/plain": [
       "<pyspark.sql.session.SparkSession at 0x2376bd4cca0>"
      ]
     },
     "execution_count": 43,
     "metadata": {},
     "output_type": "execute_result"
    }
   ],
   "source": [
    "spark"
   ]
  },
  {
   "cell_type": "code",
   "execution_count": 100,
   "id": "3f0a5d02",
   "metadata": {},
   "outputs": [],
   "source": [
    "#Stop the Session\n",
    "sc.stop()"
   ]
  },
  {
   "cell_type": "code",
   "execution_count": 22,
   "id": "334d62d6",
   "metadata": {},
   "outputs": [
    {
     "name": "stdout",
     "output_type": "stream",
     "text": [
      "('unsafe following distance', 54.0, 6.323071002960205)\n",
      "('lane departure', 45.0, 3.116119146347046)\n",
      "('overspeed', 86.0, 4.442246437072754)\n",
      "('overspeed', 89.5, 7.700280666351318)\n",
      "('overspeed', 85.0, 10.987820625305176)\n",
      "('overspeed', 82.5, 6.337808609008789)\n",
      "('unsafe tail distance', 27.0, 7.455998420715332)\n",
      "('unsafe tail distance', 40.0, 9.151140213012695)\n",
      "('unsafe following distance', 68.0, 2.92341685295105)\n",
      "('unsafe tail distance', 63.0, 5.985864162445068)\n",
      "('lane departure', 48.0, 1.5608904361724854)\n",
      "('unsafe tail distance', 54.0, 7.513645172119141)\n",
      "('unsafe following distance', 54.0, 4.575402736663818)\n",
      "('overspeed', 90.0, 7.748658180236816)\n",
      "('unsafe following distance', 48.0, 4.648604393005371)\n",
      "('overspeed', 85.66666666666667, 7.673183917999268)\n",
      "('lane departure', 24.0, 8.92822551727295)\n",
      "('unsafe tail distance', 53.0, 3.064993381500244)\n",
      "('unsafe tail distance', 48.66666666666666, 30.101442337036133)\n",
      "('overspeed', 88.0, 4.7015604972839355)\n",
      "('overspeed', 86.0, 6.118200302124023)\n",
      "('overspeed', 84.5, 6.113225936889648)\n",
      "('lane departure', 24.0, 7.759408473968506)\n",
      "('unsafe following distance', 73.0, 6.253292560577393)\n",
      "('lane departure', 68.0, 6.281545162200928)\n",
      "('unsafe following distance', 43.0, 6.144515514373779)\n",
      "('overspeed', 77.0, 7.5886006355285645)\n",
      "('unsafe tail distance', 15.0, 7.8258280754089355)\n",
      "('unsafe following distance', 55.0, 3.116119146347046)\n",
      "('unsafe following distance', 50.0, 30.101442337036133)\n",
      "('unsafe following distance', 36.0, 8.92822551727295)\n",
      "('unsafe following distance', 43.0, 3.165949583053589)\n",
      "('lane departure', 45.0, 6.253292560577393)\n",
      "('overspeed', 88.0, 9.151140213012695)\n",
      "('overspeed', 91.0, 9.564268112182617)\n",
      "('overspeed', 89.33333333333333, 7.91770601272583)\n",
      "('lane departure', 55.0, 7.5886006355285645)\n",
      "('unsafe tail distance', 53.0, 1.4956178665161133)\n",
      "('unsafe following distance', 48.5, 3.0753285884857178)\n",
      "('unsafe following distance', 53.66666666666666, 10.551655769348145)\n",
      "('unsafe tail distance', 16.0, 4.773216247558594)\n",
      "('unsafe following distance', 40.0, 7.673183917999268)\n",
      "('lane departure', 51.5, 7.68006706237793)\n",
      "('overspeed', 77.0, 4.432951927185059)\n",
      "('lane departure', 47.0, 9.564268112182617)\n",
      "('lane departure', 42.33333333333334, 4.620260715484619)\n",
      "('unsafe following distance', 43.0, 3.064993381500244)\n",
      "('lane departure', 57.5, 9.045830726623535)\n",
      "('unsafe following distance', 33.0, 7.68006706237793)\n",
      "('lane departure', 22.0, 7.673183917999268)\n",
      "('lane departure', 48.0, 7.696511745452881)\n",
      "('overspeed', 78.0, 5.985864162445068)\n",
      "('overspeed', 83.0, 9.381097793579102)\n",
      "('unsafe tail distance', 49.0, 7.661672592163086)\n",
      "('overspeed', 84.0, 4.519290447235107)\n",
      "('lane departure', 55.0, 7.862290859222412)\n",
      "('unsafe following distance', 33.0, 6.113225936889648)\n",
      "('unsafe tail distance', 45.0, 8.92822551727295)\n",
      "('unsafe following distance', 33.0, 9.045830726623535)\n",
      "('lane departure', 55.0, 11.82427978515625)\n",
      "('unsafe following distance', 32.0, 10.987820625305176)\n",
      "('lane departure', 74.0, 3.1919102668762207)\n",
      "('unsafe tail distance', 18.0, 3.016277313232422)\n",
      "('overspeed', 91.0, 2.92341685295105)\n",
      "('unsafe following distance', 23.0, 4.824780464172363)\n",
      "('lane departure', 56.5, 4.790396213531494)\n",
      "('unsafe following distance', 59.0, 6.134527206420898)\n",
      "('lane departure', 55.66666666666666, 6.323071002960205)\n",
      "('unsafe following distance', 52.5, 9.564268112182617)\n",
      "('unsafe following distance', 37.5, 7.661672592163086)\n",
      "('overspeed', 95.5, 8.92822551727295)\n",
      "('lane departure', 55.0, 9.453805923461914)\n",
      "('unsafe following distance', 27.5, 8.02872371673584)\n",
      "('lane departure', 29.66666666666667, 6.19175910949707)\n",
      "('overspeed', 90.5, 7.656615734100342)\n",
      "('unsafe following distance', 21.0, 3.1522769927978516)\n",
      "('lane departure', 53.5, 10.551655769348145)\n",
      "('unsafe tail distance', 28.0, 7.91770601272583)\n",
      "('unsafe following distance', 25.5, 6.149144649505615)\n",
      "('overspeed', 88.0, 9.139738082885742)\n",
      "('overspeed', 89.5, 7.513645172119141)\n",
      "('unsafe tail distance', 15.0, 9.139738082885742)\n",
      "('unsafe tail distance', 53.0, 9.381097793579102)\n",
      "('unsafe tail distance', 15.0, 7.68006706237793)\n",
      "('unsafe following distance', 38.5, 6.165189743041992)\n",
      "('lane departure', 64.0, 3.1235992908477783)\n",
      "('lane departure', 45.0, 4.442246437072754)\n",
      "('unsafe following distance', 29.66666666666667, 7.4032721519470215)\n",
      "('unsafe tail distance', 53.0, 9.453805923461914)\n",
      "('unsafe tail distance', 53.0, 7.777017116546631)\n",
      "('overspeed', 79.0, 7.759408473968506)\n",
      "('unsafe following distance', 62.0, 4.681648254394531)\n",
      "('unsafe following distance', 23.0, 1.5265008211135864)\n",
      "('lane departure', 45.8, 30.101442337036133)\n",
      "('unsafe tail distance', 15.0, 7.809656143188477)\n",
      "('overspeed', 88.0, 3.2059707641601562)\n",
      "('event', None, None)\n",
      "('unsafe tail distance', 15.0, 10.936321258544922)\n",
      "('unsafe tail distance', 63.0, 5.951592922210693)\n",
      "('unsafe following distance', 54.0, 4.7015604972839355)\n",
      "('unsafe tail distance', 53.0, 3.0611417293548584)\n",
      "('lane departure', 41.0, 4.648604393005371)\n",
      "('unsafe following distance', 21.0, 7.760913848876953)\n",
      "('unsafe following distance', 47.66666666666666, 9.707968711853027)\n",
      "('lane departure', 24.0, 5.985864162445068)\n",
      "('overspeed', 78.0, 3.0581462383270264)\n",
      "('unsafe following distance', 56.0, 7.8258280754089355)\n",
      "('lane departure', 41.0, 9.381097793579102)\n",
      "('unsafe following distance', 59.0, 7.5185370445251465)\n",
      "('lane departure', 24.0, 3.0619804859161377)\n",
      "('unsafe following distance', 37.0, 4.630101203918457)\n",
      "('unsafe following distance', 23.0, 4.432951927185059)\n",
      "('overspeed', 91.0, 9.197108268737793)\n",
      "('lane departure', 48.0, 6.113225936889648)\n",
      "('unsafe tail distance', 15.0, 4.648604393005371)\n",
      "('lane departure', 44.5, 3.089700222015381)\n",
      "('overspeed', 90.0, 6.281545162200928)\n",
      "('lane departure', 45.0, 3.165949583053589)\n",
      "('unsafe following distance', 43.0, 7.748658180236816)\n",
      "('lane departure', 24.0, 1.5047935247421265)\n",
      "('unsafe tail distance', 45.0, 10.551655769348145)\n",
      "('unsafe following distance', 37.0, 9.151140213012695)\n",
      "('overspeed', 88.0, 3.1235992908477783)\n",
      "('lane departure', 74.0, 7.513645172119141)\n",
      "('unsafe tail distance', 15.0, 9.417333602905273)\n",
      "('overspeed', 78.0, 7.740776538848877)\n",
      "('unsafe following distance', 23.0, 7.700280666351318)\n",
      "('lane departure', 59.0, 9.139738082885742)\n",
      "('lane departure', 24.0, 7.661672592163086)\n",
      "('unsafe tail distance', 53.0, 8.02872371673584)\n",
      "('unsafe following distance', 61.0, 4.783025741577148)\n",
      "('lane departure', 74.0, 3.0581462383270264)\n",
      "('lane departure', 42.5, 7.518559455871582)\n",
      "('unsafe tail distance', 45.0, 7.5185370445251465)\n",
      "('overspeed', 89.0, 7.4032721519470215)\n",
      "('unsafe tail distance', 53.0, 4.681648254394531)\n",
      "('unsafe following distance', 16.0, 6.337808609008789)\n",
      "('overspeed', 85.5, 5.951592922210693)\n",
      "('overspeed', 77.0, 9.045830726623535)\n",
      "('lane departure', 30.5, 6.056816101074219)\n",
      "('unsafe following distance', 37.5, 7.455998420715332)\n",
      "('lane departure', 45.0, 6.2675886154174805)\n",
      "('unsafe following distance', 37.0, 10.936321258544922)\n",
      "('unsafe tail distance', 53.0, 6.118200302124023)\n",
      "('lane departure', 74.0, 4.626673698425293)\n",
      "('unsafe following distance', 38.5, 6.2675886154174805)\n",
      "('unsafe tail distance', 28.0, 3.1048574447631836)\n",
      "('overspeed', 81.0, 6.134527206420898)\n",
      "('lane departure', 48.0, 10.936321258544922)\n",
      "('unsafe following distance', 24.0, 4.575465679168701)\n",
      "('lane departure', 68.0, 15.570940017700195)\n",
      "('overspeed', 94.0, 7.455998420715332)\n",
      "('unsafe following distance', 54.0, 7.809656143188477)\n",
      "('unsafe following distance', 40.0, 1.5327619314193726)\n",
      "('lane departure', 67.66666666666667, 9.707968711853027)\n",
      "('unsafe following distance', 23.0, 1.5420700311660767)\n",
      "('unsafe following distance', 28.0, 4.598039627075195)\n",
      "('overspeed', 81.0, 9.530495643615723)\n",
      "('unsafe following distance', 43.0, 9.453805923461914)\n",
      "('unsafe tail distance', 15.0, 7.760913848876953)\n",
      "('unsafe tail distance', 15.0, 3.2059707641601562)\n",
      "('lane departure', 45.0, 7.91770601272583)\n",
      "('overspeed', 91.0, 11.82427978515625)\n",
      "('overspeed', 86.75, 9.417333602905273)\n",
      "('overspeed', 85.0, 7.696511745452881)\n",
      "('overspeed', 89.0, 4.598039627075195)\n",
      "('lane departure', 55.0, 7.740776538848877)\n",
      "('overspeed', 88.0, 1.565861701965332)\n",
      "('lane departure', 68.0, 7.700280666351318)\n",
      "('overspeed', 77.4, 30.101442337036133)\n",
      "('lane departure', 24.0, 4.7015604972839355)\n",
      "('lane departure', 39.0, 9.417333602905273)\n",
      "('unsafe following distance', 43.75, 9.530495643615723)\n",
      "('unsafe following distance', 55.0, 9.197108268737793)\n",
      "('unsafe tail distance', 46.0, 7.696511745452881)\n",
      "('lane departure', 46.5, 10.987820625305176)\n",
      "('overspeed', 94.0, 4.824780464172363)\n",
      "('unsafe following distance', 33.0, 7.656615734100342)\n",
      "('overspeed', 88.0, 6.253292560577393)\n",
      "('lane departure', 46.66666666666666, 7.5185370445251465)\n",
      "('lane departure', 41.0, 6.118200302124023)\n",
      "('unsafe tail distance', 63.0, 7.700280666351318)\n",
      "('lane departure', 48.0, 4.519290447235107)\n",
      "('overspeed', 81.0, 4.783025741577148)\n",
      "('unsafe following distance', 56.5, 5.87272310256958)\n",
      "('unsafe following distance', 42.2, 15.570940017700195)\n",
      "('lane departure', 64.5, 9.151140213012695)\n",
      "('unsafe following distance', 23.0, 6.056816101074219)\n",
      "('unsafe tail distance', 53.0, 1.5764466524124146)\n",
      "('lane departure', 55.0, 9.530495643615723)\n",
      "('lane departure', 41.0, 7.656615734100342)\n",
      "('unsafe tail distance', 15.0, 6.253292560577393)\n",
      "('lane departure', 57.33333333333334, 7.809656143188477)\n",
      "('unsafe following distance', 29.5, 7.759408473968506)\n",
      "('overspeed', 88.0, 10.551655769348145)\n",
      "('unsafe following distance', 62.0, 4.7675347328186035)\n",
      "('overspeed', 83.5, 4.626673698425293)\n",
      "('lane departure', 54.0, 7.760913848876953)\n",
      "('overspeed', 78.0, 9.453805923461914)\n",
      "('lane departure', 24.0, 3.1522769927978516)\n",
      "('lane departure', 41.0, 4.575465679168701)\n",
      "('unsafe tail distance', 40.5, 6.281545162200928)\n",
      "('lane departure', 27.5, 4.7675347328186035)\n",
      "('lane departure', 50.25, 9.197108268737793)\n",
      "('overspeed', 91.0, 6.19175910949707)\n",
      "('unsafe tail distance', 53.0, 6.337808609008789)\n",
      "('overspeed', 86.0, 8.02872371673584)\n",
      "('unsafe tail distance', 28.0, 6.2675886154174805)\n",
      "('overspeed', 94.0, 6.149144649505615)\n",
      "('unsafe tail distance', 31.0, 7.740776538848877)\n",
      "('lane departure', 57.5, 6.165189743041992)\n",
      "('lane departure', 74.0, 4.575402736663818)\n",
      "('unsafe following distance', 21.0, 3.1048574447631836)\n",
      "('overspeed', 77.0, 3.1098103523254395)\n",
      "('unsafe tail distance', 28.0, 5.87272310256958)\n",
      "('lane departure', 71.0, 7.8258280754089355)\n",
      "('unsafe tail distance', 33.0, 11.82427978515625)\n",
      "('overspeed', 90.0, 4.681648254394531)\n",
      "('unsafe following distance', 40.0, 3.0619804859161377)\n",
      "('lane departure', 49.33333333333334, 7.777017116546631)\n",
      "('unsafe tail distance', 28.0, 6.149144649505615)\n",
      "('overspeed', 86.33333333333333, 15.570940017700195)\n",
      "('lane departure', 48.0, 7.455998420715332)\n",
      "('unsafe tail distance', 15.0, 10.987820625305176)\n",
      "('lane departure', 31.0, 3.016277313232422)\n",
      "('unsafe following distance', 23.0, 1.517651081085205)\n",
      "('overspeed', 78.0, 3.0611417293548584)\n",
      "('unsafe following distance', 43.5, 7.862290859222412)\n",
      "('overspeed', 81.0, 4.790396213531494)\n",
      "('lane departure', 48.0, 4.432951927185059)\n",
      "('overspeed', 77.0, 4.630101203918457)\n",
      "('lane departure', 45.0, 4.824780464172363)\n",
      "('unsafe following distance', 35.0, 7.5886006355285645)\n",
      "('lane departure', 55.0, 6.144515514373779)\n",
      "('unsafe following distance', 28.0, 3.1919102668762207)\n",
      "('lane departure', 55.0, 4.598039627075195)\n",
      "('unsafe tail distance', 63.0, 6.056816101074219)\n",
      "('lane departure', 45.0, 4.783025741577148)\n",
      "('unsafe following distance', 31.0, 9.381097793579102)\n",
      "('unsafe following distance', 54.0, 7.696511745452881)\n",
      "('unsafe tail distance', 46.0, 7.759408473968506)\n",
      "('unsafe following distance', 51.0, 7.518559455871582)\n",
      "('lane departure', 41.0, 5.87272310256958)\n",
      "('unsafe tail distance', 46.0, 3.1098103523254395)\n",
      "('lane departure', 39.0, 7.4032721519470215)\n",
      "('overspeed', 85.0, 10.936321258544922)\n",
      "('unsafe tail distance', 45.0, 7.518559455871582)\n",
      "('unsafe following distance', 28.0, 5.951592922210693)\n",
      "('overspeed', 78.0, 3.1145660877227783)\n",
      "('lane departure', 56.5, 6.134527206420898)\n",
      "('unsafe following distance', 54.0, 5.985864162445068)\n",
      "('unsafe following distance', 30.0, 11.82427978515625)\n",
      "('unsafe tail distance', 39.0, 7.862290859222412)\n",
      "('lane departure', 49.0, 4.773216247558594)\n",
      "('lane departure', 68.0, 7.748658180236816)\n"
     ]
    }
   ],
   "source": [
    "from impala.dbapi import connect\n",
    "conn = connect(host='192.168.118.137', port=21050)\n",
    "cursor = conn.cursor()\n",
    "cursor.execute('select * from vel_riskfactor')\n",
    "# print(cursor)  # prints the result set's schema\n",
    "results = cursor.fetchall()\n",
    "for data in results:\n",
    "        print(data)"
   ]
  },
  {
   "cell_type": "code",
   "execution_count": 40,
   "id": "c5cd0786",
   "metadata": {},
   "outputs": [
    {
     "data": {
      "text/plain": [
       "<impala.hiveserver2.HiveServer2Cursor at 0x2d899f60dc0>"
      ]
     },
     "execution_count": 40,
     "metadata": {},
     "output_type": "execute_result"
    }
   ],
   "source": []
  },
  {
   "cell_type": "code",
   "execution_count": 5,
   "id": "de91ec54",
   "metadata": {},
   "outputs": [],
   "source": [
    "df = spark.createDataFrame(results)"
   ]
  },
  {
   "cell_type": "code",
   "execution_count": 6,
   "id": "275bac46",
   "metadata": {},
   "outputs": [
    {
     "data": {
      "text/plain": [
       "Row(_1='driverid', _2='truckid', _3='model', _4=None, _5=None, _6=None, _7=None, _8=None, _9=None, _10=None, _11=None, _12=None, _13=None, _14=None, _15=None, _16=None, _17=None, _18=None, _19=None, _20=None, _21=None, _22=None, _23=None, _24=None, _25=None, _26=None, _27=None, _28=None, _29=None, _30=None, _31=None, _32=None, _33=None, _34=None, _35=None, _36=None, _37=None, _38=None, _39=None, _40=None, _41=None, _42=None, _43=None, _44=None, _45=None, _46=None, _47=None, _48=None, _49=None, _50=None, _51=None, _52=None, _53=None, _54=None, _55=None, _56=None, _57=None, _58=None, _59=None, _60=None, _61=None, _62=None, _63=None, _64=None, _65=None, _66=None, _67=None, _68=None, _69=None, _70=None, _71=None, _72=None, _73=None, _74=None, _75=None, _76=None, _77=None, _78=None, _79=None, _80=None, _81=None, _82=None, _83=None, _84=None, _85=None, _86=None, _87=None, _88=None, _89=None, _90=None, _91=None, _92=None, _93=None, _94=None, _95=None, _96=None, _97=None, _98=None, _99=None, _100=None, _101=None, _102=None, _103=None, _104=None, _105=None, _106=None, _107=None, _108=None, _109=None, _110=None, _111=None)"
      ]
     },
     "execution_count": 6,
     "metadata": {},
     "output_type": "execute_result"
    }
   ],
   "source": [
    "df.head()"
   ]
  },
  {
   "cell_type": "code",
   "execution_count": 83,
   "id": "49515e64",
   "metadata": {},
   "outputs": [],
   "source": [
    "from impala.util import as_pandas\n",
    "\n",
    "cursor.execute('SELECT * FROM riskfactor')\n",
    "riskfactor = as_pandas(cursor)"
   ]
  },
  {
   "cell_type": "code",
   "execution_count": 84,
   "id": "251cd2e9",
   "metadata": {},
   "outputs": [
    {
     "data": {
      "text/html": [
       "<div>\n",
       "<style scoped>\n",
       "    .dataframe tbody tr th:only-of-type {\n",
       "        vertical-align: middle;\n",
       "    }\n",
       "\n",
       "    .dataframe tbody tr th {\n",
       "        vertical-align: top;\n",
       "    }\n",
       "\n",
       "    .dataframe thead th {\n",
       "        text-align: right;\n",
       "    }\n",
       "</style>\n",
       "<table border=\"1\" class=\"dataframe\">\n",
       "  <thead>\n",
       "    <tr style=\"text-align: right;\">\n",
       "      <th></th>\n",
       "      <th>driverid</th>\n",
       "      <th>events</th>\n",
       "      <th>totmiles</th>\n",
       "      <th>riskfactor</th>\n",
       "    </tr>\n",
       "  </thead>\n",
       "  <tbody>\n",
       "    <tr>\n",
       "      <th>0</th>\n",
       "      <td>A1</td>\n",
       "      <td>3</td>\n",
       "      <td>628507</td>\n",
       "      <td>4.773216</td>\n",
       "    </tr>\n",
       "    <tr>\n",
       "      <th>1</th>\n",
       "      <td>A2</td>\n",
       "      <td>1</td>\n",
       "      <td>664543</td>\n",
       "      <td>1.504794</td>\n",
       "    </tr>\n",
       "    <tr>\n",
       "      <th>2</th>\n",
       "      <td>A3</td>\n",
       "      <td>6</td>\n",
       "      <td>639584</td>\n",
       "      <td>9.381098</td>\n",
       "    </tr>\n",
       "    <tr>\n",
       "      <th>3</th>\n",
       "      <td>A4</td>\n",
       "      <td>6</td>\n",
       "      <td>663289</td>\n",
       "      <td>9.045831</td>\n",
       "    </tr>\n",
       "    <tr>\n",
       "      <th>4</th>\n",
       "      <td>A5</td>\n",
       "      <td>8</td>\n",
       "      <td>676574</td>\n",
       "      <td>11.824280</td>\n",
       "    </tr>\n",
       "  </tbody>\n",
       "</table>\n",
       "</div>"
      ],
      "text/plain": [
       "  driverid  events  totmiles  riskfactor\n",
       "0       A1       3    628507    4.773216\n",
       "1       A2       1    664543    1.504794\n",
       "2       A3       6    639584    9.381098\n",
       "3       A4       6    663289    9.045831\n",
       "4       A5       8    676574   11.824280"
      ]
     },
     "execution_count": 84,
     "metadata": {},
     "output_type": "execute_result"
    }
   ],
   "source": [
    "riskfactor.head()"
   ]
  },
  {
   "cell_type": "code",
   "execution_count": 37,
   "id": "3363e62d",
   "metadata": {},
   "outputs": [],
   "source": [
    "from impala.util import as_pandas\n",
    "\n",
    "cursor.execute('SELECT * FROM vel_mod_riskfactor')\n",
    "vel_mod_riskfactor = as_pandas(cursor)"
   ]
  },
  {
   "cell_type": "code",
   "execution_count": 38,
   "id": "e3d4447f",
   "metadata": {},
   "outputs": [
    {
     "data": {
      "text/html": [
       "<div>\n",
       "<style scoped>\n",
       "    .dataframe tbody tr th:only-of-type {\n",
       "        vertical-align: middle;\n",
       "    }\n",
       "\n",
       "    .dataframe tbody tr th {\n",
       "        vertical-align: top;\n",
       "    }\n",
       "\n",
       "    .dataframe thead th {\n",
       "        text-align: right;\n",
       "    }\n",
       "</style>\n",
       "<table border=\"1\" class=\"dataframe\">\n",
       "  <thead>\n",
       "    <tr style=\"text-align: right;\">\n",
       "      <th></th>\n",
       "      <th>event</th>\n",
       "      <th>avg_velocity</th>\n",
       "      <th>totmiles</th>\n",
       "      <th>model</th>\n",
       "      <th>riskfactor</th>\n",
       "    </tr>\n",
       "  </thead>\n",
       "  <tbody>\n",
       "    <tr>\n",
       "      <th>0</th>\n",
       "      <td>unsafe following distance</td>\n",
       "      <td>54.0</td>\n",
       "      <td>632604.0</td>\n",
       "      <td>Navistar</td>\n",
       "      <td>6.323071</td>\n",
       "    </tr>\n",
       "    <tr>\n",
       "      <th>1</th>\n",
       "      <td>lane departure</td>\n",
       "      <td>45.0</td>\n",
       "      <td>641824.0</td>\n",
       "      <td>Kenworth</td>\n",
       "      <td>3.116119</td>\n",
       "    </tr>\n",
       "    <tr>\n",
       "      <th>2</th>\n",
       "      <td>overspeed</td>\n",
       "      <td>86.0</td>\n",
       "      <td>675334.0</td>\n",
       "      <td>Navistar</td>\n",
       "      <td>4.442246</td>\n",
       "    </tr>\n",
       "    <tr>\n",
       "      <th>3</th>\n",
       "      <td>overspeed</td>\n",
       "      <td>89.5</td>\n",
       "      <td>649327.0</td>\n",
       "      <td>Hino</td>\n",
       "      <td>7.700281</td>\n",
       "    </tr>\n",
       "    <tr>\n",
       "      <th>4</th>\n",
       "      <td>overspeed</td>\n",
       "      <td>85.0</td>\n",
       "      <td>637069.0</td>\n",
       "      <td>Ford</td>\n",
       "      <td>10.987821</td>\n",
       "    </tr>\n",
       "  </tbody>\n",
       "</table>\n",
       "</div>"
      ],
      "text/plain": [
       "                       event  avg_velocity  totmiles     model  riskfactor\n",
       "0  unsafe following distance          54.0  632604.0  Navistar    6.323071\n",
       "1             lane departure          45.0  641824.0  Kenworth    3.116119\n",
       "2                  overspeed          86.0  675334.0  Navistar    4.442246\n",
       "3                  overspeed          89.5  649327.0      Hino    7.700281\n",
       "4                  overspeed          85.0  637069.0      Ford   10.987821"
      ]
     },
     "execution_count": 38,
     "metadata": {},
     "output_type": "execute_result"
    }
   ],
   "source": [
    "vel_mod_riskfactor.head()"
   ]
  },
  {
   "cell_type": "code",
   "execution_count": 39,
   "id": "5b708ca6",
   "metadata": {},
   "outputs": [],
   "source": [
    "vel_mod_riskfactor.to_csv('vel_mod_riskfactor.csv')"
   ]
  },
  {
   "cell_type": "code",
   "execution_count": 87,
   "id": "eb2c4fd0",
   "metadata": {},
   "outputs": [],
   "source": [
    "# df = avg_velocity.merge(riskfactor,how='left',on='driverid')"
   ]
  },
  {
   "cell_type": "code",
   "execution_count": 88,
   "id": "b38662d6",
   "metadata": {},
   "outputs": [],
   "source": [
    "# df =df[['event','avg_velocity','riskfactor']]"
   ]
  },
  {
   "cell_type": "code",
   "execution_count": 89,
   "id": "3f35335f",
   "metadata": {},
   "outputs": [],
   "source": []
  },
  {
   "cell_type": "code",
   "execution_count": 44,
   "id": "1c3fc03f",
   "metadata": {},
   "outputs": [
    {
     "name": "stdout",
     "output_type": "stream",
     "text": [
      "root\n",
      " |-- event: string (nullable = true)\n",
      " |-- avg_velocity: double (nullable = true)\n",
      " |-- totmiles: integer (nullable = true)\n",
      " |-- model: string (nullable = true)\n",
      " |-- riskfactor: double (nullable = true)\n",
      "\n"
     ]
    }
   ],
   "source": [
    "dataset = spark.read.csv(\"vel_mod_riskfactor.csv\", inferSchema=True, header =True)\n",
    "dataset.printSchema()"
   ]
  },
  {
   "cell_type": "code",
   "execution_count": 48,
   "id": "7eb2cfd6",
   "metadata": {},
   "outputs": [
    {
     "name": "stdout",
     "output_type": "stream",
     "text": [
      "+--------------------+------------+--------+------------+-----------+-----------+\n",
      "|               event|avg_velocity|totmiles|       model| riskfactor|event_index|\n",
      "+--------------------+------------+--------+------------+-----------+-----------+\n",
      "|unsafe following ...|        54.0|  632604|    Navistar|6.323071003|        1.0|\n",
      "|      lane departure|        45.0|  641824|    Kenworth|3.116119146|        0.0|\n",
      "|           overspeed|        86.0|  675334|    Navistar|4.442246437|        2.0|\n",
      "|           overspeed|        89.5|  649327|        Hino|7.700280666|        2.0|\n",
      "|           overspeed|        85.0|  637069|        Ford|10.98782063|        2.0|\n",
      "|           overspeed|        82.5|  631133|   Peterbilt|6.337808609|        2.0|\n",
      "|unsafe tail distance|        27.0|  670601|   Peterbilt|7.455998421|        3.0|\n",
      "|unsafe tail distance|        40.0|  655656|Freightliner|9.151140213|        3.0|\n",
      "|unsafe following ...|        68.0|  684131|        Ford|2.923416853|        1.0|\n",
      "|unsafe tail distance|        63.0|  668241| Caterpillar|5.985864162|        3.0|\n",
      "|      lane departure|        48.0|  640660|       Volvo|1.560890436|        0.0|\n",
      "|unsafe tail distance|        54.0|  665456|       Volvo|7.513645172|        3.0|\n",
      "|unsafe following ...|        54.0|  655680| Caterpillar|4.575402737|        1.0|\n",
      "|           overspeed|        90.0|  645273|   Peterbilt| 7.74865818|        2.0|\n",
      "|unsafe following ...|        48.0|  645355|       Volvo|4.648604393|        1.0|\n",
      "|           overspeed| 85.66666667|  651620|Freightliner|7.673183918|        2.0|\n",
      "|      lane departure|        24.0|  672026|   Peterbilt|8.928225517|        0.0|\n",
      "|unsafe tail distance|        53.0|  652530| Caterpillar|3.064993382|        3.0|\n",
      "|unsafe tail distance| 48.66666667|  631199| Caterpillar|30.10144234|        3.0|\n",
      "|           overspeed|        88.0|  638086|    Navistar|4.701560497|        2.0|\n",
      "+--------------------+------------+--------+------------+-----------+-----------+\n",
      "only showing top 20 rows\n",
      "\n"
     ]
    }
   ],
   "source": [
    "from pyspark.ml.feature import StringIndexer\n",
    "\n",
    "indexer = StringIndexer(inputCol=\"event\", outputCol=\"event_index\")\n",
    "indexed = indexer.fit(dataset).transform(dataset)\n",
    "indexed.show()"
   ]
  },
  {
   "cell_type": "code",
   "execution_count": 49,
   "id": "fc3ee2a3",
   "metadata": {},
   "outputs": [
    {
     "name": "stdout",
     "output_type": "stream",
     "text": [
      "+--------------------+------------+--------+------------+-----------+-----------+-----------+\n",
      "|               event|avg_velocity|totmiles|       model| riskfactor|event_index|model_index|\n",
      "+--------------------+------------+--------+------------+-----------+-----------+-----------+\n",
      "|unsafe following ...|        54.0|  632604|    Navistar|6.323071003|        1.0|        5.0|\n",
      "|      lane departure|        45.0|  641824|    Kenworth|3.116119146|        0.0|        7.0|\n",
      "|           overspeed|        86.0|  675334|    Navistar|4.442246437|        2.0|        5.0|\n",
      "|           overspeed|        89.5|  649327|        Hino|7.700280666|        2.0|        4.0|\n",
      "|           overspeed|        85.0|  637069|        Ford|10.98782063|        2.0|        0.0|\n",
      "|           overspeed|        82.5|  631133|   Peterbilt|6.337808609|        2.0|        1.0|\n",
      "|unsafe tail distance|        27.0|  670601|   Peterbilt|7.455998421|        3.0|        1.0|\n",
      "|unsafe tail distance|        40.0|  655656|Freightliner|9.151140213|        3.0|        6.0|\n",
      "|unsafe following ...|        68.0|  684131|        Ford|2.923416853|        1.0|        0.0|\n",
      "|unsafe tail distance|        63.0|  668241| Caterpillar|5.985864162|        3.0|        2.0|\n",
      "|      lane departure|        48.0|  640660|       Volvo|1.560890436|        0.0|        3.0|\n",
      "|unsafe tail distance|        54.0|  665456|       Volvo|7.513645172|        3.0|        3.0|\n",
      "|unsafe following ...|        54.0|  655680| Caterpillar|4.575402737|        1.0|        2.0|\n",
      "|           overspeed|        90.0|  645273|   Peterbilt| 7.74865818|        2.0|        1.0|\n",
      "|unsafe following ...|        48.0|  645355|       Volvo|4.648604393|        1.0|        3.0|\n",
      "|           overspeed| 85.66666667|  651620|Freightliner|7.673183918|        2.0|        6.0|\n",
      "|      lane departure|        24.0|  672026|   Peterbilt|8.928225517|        0.0|        1.0|\n",
      "|unsafe tail distance|        53.0|  652530| Caterpillar|3.064993382|        3.0|        2.0|\n",
      "|unsafe tail distance| 48.66666667|  631199| Caterpillar|30.10144234|        3.0|        2.0|\n",
      "|           overspeed|        88.0|  638086|    Navistar|4.701560497|        2.0|        5.0|\n",
      "+--------------------+------------+--------+------------+-----------+-----------+-----------+\n",
      "only showing top 20 rows\n",
      "\n"
     ]
    }
   ],
   "source": [
    "from pyspark.ml.feature import StringIndexer\n",
    "\n",
    "indexer = StringIndexer(inputCol=\"model\", outputCol=\"model_index\")\n",
    "indexed = indexer.fit(indexed).transform(indexed)\n",
    "indexed.show()"
   ]
  },
  {
   "cell_type": "code",
   "execution_count": 50,
   "id": "57aa5376",
   "metadata": {},
   "outputs": [
    {
     "name": "stdout",
     "output_type": "stream",
     "text": [
      "+--------------------+-----------+\n",
      "|Independent Features| riskfactor|\n",
      "+--------------------+-----------+\n",
      "|[1.0,5.0,54.0,632...|6.323071003|\n",
      "|[0.0,7.0,45.0,641...|3.116119146|\n",
      "|[2.0,5.0,86.0,675...|4.442246437|\n",
      "|[2.0,4.0,89.5,649...|7.700280666|\n",
      "|[2.0,0.0,85.0,637...|10.98782063|\n",
      "+--------------------+-----------+\n",
      "only showing top 5 rows\n",
      "\n"
     ]
    }
   ],
   "source": [
    "from pyspark.ml.feature import VectorAssembler\n",
    "vectorAssembler = VectorAssembler(inputCols = ['event_index','model_index','avg_velocity','totmiles'], outputCol = \"Independent Features\")\n",
    "rf_df = vectorAssembler.transform(indexed)\n",
    "rf_df = rf_df.select(['Independent Features', 'riskfactor'])\n",
    "rf_df.show(5)"
   ]
  },
  {
   "cell_type": "code",
   "execution_count": 51,
   "id": "c5ff5069",
   "metadata": {},
   "outputs": [],
   "source": [
    "splits = rf_df.randomSplit([0.7, 0.3])\n",
    "train_df = splits[0]\n",
    "test_df = splits[1]"
   ]
  },
  {
   "cell_type": "code",
   "execution_count": 52,
   "id": "f914d7f8",
   "metadata": {},
   "outputs": [
    {
     "name": "stdout",
     "output_type": "stream",
     "text": [
      "Coefficients: [0.2841821164764467,0.006445818527117019,0.0003232271538839428,-3.255382169839224e-07]\n",
      "Intercept: 6.741412535494262\n"
     ]
    }
   ],
   "source": [
    "from pyspark.ml.regression import LinearRegression\n",
    "lr = LinearRegression(featuresCol = 'Independent Features', labelCol='riskfactor')\n",
    "lr_model = lr.fit(train_df)\n",
    "print(\"Coefficients: \" + str(lr_model.coefficients))\n",
    "print(\"Intercept: \" + str(lr_model.intercept))"
   ]
  },
  {
   "cell_type": "code",
   "execution_count": 53,
   "id": "ba6b618a",
   "metadata": {},
   "outputs": [
    {
     "data": {
      "text/plain": [
       "<pyspark.ml.regression.LinearRegressionTrainingSummary at 0x23775b37400>"
      ]
     },
     "execution_count": 53,
     "metadata": {},
     "output_type": "execute_result"
    }
   ],
   "source": [
    "lr_model.summary"
   ]
  },
  {
   "cell_type": "code",
   "execution_count": 54,
   "id": "8544b91f",
   "metadata": {},
   "outputs": [
    {
     "name": "stdout",
     "output_type": "stream",
     "text": [
      "RMSE: 3.539470\n",
      "r2: 0.007665\n"
     ]
    }
   ],
   "source": [
    "trainingSummary = lr_model.summary\n",
    "print(\"RMSE: %f\" % trainingSummary.rootMeanSquaredError)\n",
    "print(\"r2: %f\" % trainingSummary.r2)"
   ]
  },
  {
   "cell_type": "code",
   "execution_count": 96,
   "id": "cc2a1706",
   "metadata": {},
   "outputs": [
    {
     "name": "stdout",
     "output_type": "stream",
     "text": [
      "Root Mean Squared Error (RMSE) on test data = 4.50045\n"
     ]
    }
   ],
   "source": [
    "lr_predictions = lr_model.transform(test_df)\n",
    "lr_evaluator = RegressionEvaluator(labelCol=\"riskfactor\", predictionCol=\"prediction\", metricName=\"rmse\")\n",
    "rmse = lr_evaluator.evaluate(lr_predictions)\n",
    "print(\"Root Mean Squared Error (RMSE) on test data = %g\" % rmse)"
   ]
  },
  {
   "cell_type": "code",
   "execution_count": 97,
   "id": "42c272bb",
   "metadata": {},
   "outputs": [
    {
     "name": "stdout",
     "output_type": "stream",
     "text": [
      "-0.011620156724656994\n",
      "20.254028111169536\n",
      "4.5004475456524915\n",
      "2.718979113254493\n"
     ]
    }
   ],
   "source": [
    "print(lr_evaluator.evaluate(lr_predictions,\n",
    "{lr_evaluator.metricName: \"r2\"}))\n",
    "print(lr_evaluator.evaluate(lr_predictions,\n",
    "{lr_evaluator.metricName: \"mse\"}))\n",
    "print(lr_evaluator.evaluate(lr_predictions,\n",
    "{lr_evaluator.metricName: \"rmse\"}))\n",
    "print(lr_evaluator.evaluate(lr_predictions,\n",
    "{lr_evaluator.metricName: \"mae\"}))"
   ]
  },
  {
   "cell_type": "code",
   "execution_count": null,
   "id": "7456f2ed",
   "metadata": {},
   "outputs": [],
   "source": []
  },
  {
   "cell_type": "code",
   "execution_count": null,
   "id": "d62b642e",
   "metadata": {},
   "outputs": [],
   "source": []
  },
  {
   "cell_type": "code",
   "execution_count": null,
   "id": "d58d3ef2",
   "metadata": {},
   "outputs": [],
   "source": []
  },
  {
   "cell_type": "code",
   "execution_count": null,
   "id": "abe1577b",
   "metadata": {},
   "outputs": [],
   "source": []
  },
  {
   "cell_type": "code",
   "execution_count": 80,
   "id": "24fe256a",
   "metadata": {},
   "outputs": [],
   "source": [
    "from pyspark.ml.regression import DecisionTreeRegressor\n",
    "from pyspark.ml.evaluation import RegressionEvaluator\n",
    "dt = DecisionTreeRegressor(featuresCol = 'Independent Features', labelCol='riskfactor')\n",
    "dt_model = dt.fit(train_df)"
   ]
  },
  {
   "cell_type": "code",
   "execution_count": 81,
   "id": "5f206923",
   "metadata": {},
   "outputs": [
    {
     "name": "stdout",
     "output_type": "stream",
     "text": [
      "Root Mean Squared Error (RMSE) on test data = 2.63397\n"
     ]
    }
   ],
   "source": [
    "dt_predictions = dt_model.transform(test_df)\n",
    "dt_evaluator = RegressionEvaluator(labelCol=\"riskfactor\", predictionCol=\"prediction\", metricName=\"rmse\")\n",
    "rmse = dt_evaluator.evaluate(dt_predictions)\n",
    "print(\"Root Mean Squared Error (RMSE) on test data = %g\" % rmse)"
   ]
  },
  {
   "cell_type": "code",
   "execution_count": null,
   "id": "10063484",
   "metadata": {},
   "outputs": [],
   "source": []
  },
  {
   "cell_type": "code",
   "execution_count": 82,
   "id": "6e113fa9",
   "metadata": {},
   "outputs": [
    {
     "data": {
      "text/plain": [
       "SparseVector(4, {0: 0.0167, 1: 0.4534, 2: 0.0313, 3: 0.4986})"
      ]
     },
     "execution_count": 82,
     "metadata": {},
     "output_type": "execute_result"
    }
   ],
   "source": [
    "dt_model.featureImportances"
   ]
  },
  {
   "cell_type": "code",
   "execution_count": 83,
   "id": "08544206",
   "metadata": {},
   "outputs": [
    {
     "name": "stdout",
     "output_type": "stream",
     "text": [
      "DecisionTreeRegressionModel: uid=DecisionTreeRegressor_619897527b17, depth=5, numNodes=57, numFeatures=4\n"
     ]
    }
   ],
   "source": [
    "print(dt_model)"
   ]
  },
  {
   "cell_type": "code",
   "execution_count": 85,
   "id": "cf4db0e0",
   "metadata": {},
   "outputs": [
    {
     "name": "stdout",
     "output_type": "stream",
     "text": [
      "0.6534800158911024\n",
      "6.93780709347205\n",
      "2.6339717336129578\n",
      "1.9398624760258603\n"
     ]
    }
   ],
   "source": [
    "print(dt_evaluator.evaluate(dt_predictions,\n",
    "{dt_evaluator.metricName: \"r2\"}))\n",
    "print(dt_evaluator.evaluate(dt_predictions,\n",
    "{dt_evaluator.metricName: \"mse\"}))\n",
    "print(dt_evaluator.evaluate(dt_predictions,\n",
    "{dt_evaluator.metricName: \"rmse\"}))\n",
    "print(dt_evaluator.evaluate(dt_predictions,\n",
    "{dt_evaluator.metricName: \"mae\"}))"
   ]
  },
  {
   "cell_type": "code",
   "execution_count": null,
   "id": "38f03253",
   "metadata": {},
   "outputs": [],
   "source": []
  },
  {
   "cell_type": "code",
   "execution_count": null,
   "id": "c916f292",
   "metadata": {},
   "outputs": [],
   "source": []
  },
  {
   "cell_type": "code",
   "execution_count": 86,
   "id": "7a06e6e4",
   "metadata": {},
   "outputs": [
    {
     "name": "stdout",
     "output_type": "stream",
     "text": [
      "+------------------+-----------+--------------------+\n",
      "|        prediction| riskfactor|Independent Features|\n",
      "+------------------+-----------+--------------------+\n",
      "| 9.281641224894914|1.504793525|[0.0,0.0,24.0,664...|\n",
      "|5.2825605314261015|4.620260715|[0.0,0.0,42.33333...|\n",
      "|10.108126824450343|6.253292561|[0.0,0.0,45.0,639...|\n",
      "| 6.439059685518736|7.680067062|[0.0,0.0,51.5,651...|\n",
      "| 9.952370451495787|7.862290859|[0.0,0.0,55.0,635...|\n",
      "+------------------+-----------+--------------------+\n",
      "only showing top 5 rows\n",
      "\n"
     ]
    }
   ],
   "source": [
    "from pyspark.ml.regression import GBTRegressor\n",
    "gbt = GBTRegressor(featuresCol = 'Independent Features', labelCol='riskfactor', maxIter=50)\n",
    "gbt_model = gbt.fit(train_df)\n",
    "gbt_predictions = gbt_model.transform(test_df)\n",
    "gbt_predictions.select('prediction', 'riskfactor', 'Independent Features').show(5)"
   ]
  },
  {
   "cell_type": "code",
   "execution_count": 88,
   "id": "e3030917",
   "metadata": {},
   "outputs": [
    {
     "name": "stdout",
     "output_type": "stream",
     "text": [
      "Root Mean Squared Error (RMSE) on test data = 2.37893\n"
     ]
    }
   ],
   "source": [
    "gbt_evaluator = RegressionEvaluator(\n",
    "    labelCol=\"riskfactor\", predictionCol=\"prediction\", metricName=\"rmse\")\n",
    "rmse = gbt_evaluator.evaluate(gbt_predictions)\n",
    "print(\"Root Mean Squared Error (RMSE) on test data = %g\" % rmse)"
   ]
  },
  {
   "cell_type": "code",
   "execution_count": 89,
   "id": "5a3276b3",
   "metadata": {},
   "outputs": [
    {
     "name": "stdout",
     "output_type": "stream",
     "text": [
      "0.7173370090321838\n",
      "5.659302186687903\n",
      "2.3789287897471634\n",
      "1.852273894969654\n"
     ]
    }
   ],
   "source": [
    "print(gbt_evaluator.evaluate(gbt_predictions,\n",
    "{gbt_evaluator.metricName: \"r2\"}))\n",
    "print(gbt_evaluator.evaluate(gbt_predictions,\n",
    "{gbt_evaluator.metricName: \"mse\"}))\n",
    "print(gbt_evaluator.evaluate(gbt_predictions,\n",
    "{gbt_evaluator.metricName: \"rmse\"}))\n",
    "print(gbt_evaluator.evaluate(gbt_predictions,\n",
    "{gbt_evaluator.metricName: \"mae\"}))"
   ]
  },
  {
   "cell_type": "code",
   "execution_count": 99,
   "id": "5bdef2f7",
   "metadata": {},
   "outputs": [
    {
     "data": {
      "text/plain": [
       "SparseVector(4, {0: 0.0406, 1: 0.2997, 2: 0.2492, 3: 0.4104})"
      ]
     },
     "execution_count": 99,
     "metadata": {},
     "output_type": "execute_result"
    }
   ],
   "source": [
    "gbt_model.featureImportances"
   ]
  },
  {
   "cell_type": "code",
   "execution_count": null,
   "id": "6ecbc339",
   "metadata": {},
   "outputs": [],
   "source": []
  },
  {
   "cell_type": "code",
   "execution_count": 90,
   "id": "12963541",
   "metadata": {},
   "outputs": [],
   "source": [
    "from pyspark.ml.regression import RandomForestRegressor\n",
    "from pyspark.ml.evaluation import RegressionEvaluator\n",
    "rf = RandomForestRegressor(featuresCol = 'Independent Features', labelCol='riskfactor')\n",
    "rf_model = rf.fit(train_df)"
   ]
  },
  {
   "cell_type": "code",
   "execution_count": 91,
   "id": "1ab00a96",
   "metadata": {},
   "outputs": [
    {
     "name": "stdout",
     "output_type": "stream",
     "text": [
      "Root Mean Squared Error (RMSE) on test data = 3.65276\n"
     ]
    }
   ],
   "source": [
    "rf_predictions = rf_model.transform(test_df)\n",
    "rf_evaluator = RegressionEvaluator(labelCol=\"riskfactor\", predictionCol=\"prediction\", metricName=\"rmse\")\n",
    "rmse = rf_evaluator.evaluate(rf_predictions)\n",
    "print(\"Root Mean Squared Error (RMSE) on test data = %g\" % rmse)"
   ]
  },
  {
   "cell_type": "code",
   "execution_count": 92,
   "id": "129d7d62",
   "metadata": {},
   "outputs": [
    {
     "data": {
      "text/plain": [
       "SparseVector(4, {0: 0.062, 1: 0.3474, 2: 0.1824, 3: 0.4083})"
      ]
     },
     "execution_count": 92,
     "metadata": {},
     "output_type": "execute_result"
    }
   ],
   "source": [
    "rf_model.featureImportances"
   ]
  },
  {
   "cell_type": "code",
   "execution_count": 93,
   "id": "aae075ea",
   "metadata": {},
   "outputs": [
    {
     "name": "stdout",
     "output_type": "stream",
     "text": [
      "RandomForestRegressionModel: uid=RandomForestRegressor_0c2866a9f576, numTrees=20, numFeatures=4\n"
     ]
    }
   ],
   "source": [
    "print(rf_model)"
   ]
  },
  {
   "cell_type": "code",
   "execution_count": 94,
   "id": "60ae069d",
   "metadata": {},
   "outputs": [
    {
     "name": "stdout",
     "output_type": "stream",
     "text": [
      "0.33358059913924876\n",
      "13.342633783182134\n",
      "3.652757011242622\n",
      "2.7128170195315024\n"
     ]
    }
   ],
   "source": [
    "print(rf_evaluator.evaluate(rf_predictions,\n",
    "{rf_evaluator.metricName: \"r2\"}))\n",
    "print(rf_evaluator.evaluate(rf_predictions,\n",
    "{rf_evaluator.metricName: \"mse\"}))\n",
    "print(rf_evaluator.evaluate(rf_predictions,\n",
    "{rf_evaluator.metricName: \"rmse\"}))\n",
    "print(rf_evaluator.evaluate(rf_predictions,\n",
    "{rf_evaluator.metricName: \"mae\"}))"
   ]
  },
  {
   "cell_type": "code",
   "execution_count": null,
   "id": "23023fef",
   "metadata": {},
   "outputs": [],
   "source": []
  },
  {
   "cell_type": "code",
   "execution_count": null,
   "id": "bb1f879a",
   "metadata": {},
   "outputs": [],
   "source": []
  },
  {
   "cell_type": "code",
   "execution_count": null,
   "id": "2697b73e",
   "metadata": {},
   "outputs": [],
   "source": []
  },
  {
   "cell_type": "code",
   "execution_count": null,
   "id": "be7cc494",
   "metadata": {},
   "outputs": [],
   "source": []
  },
  {
   "cell_type": "code",
   "execution_count": 14,
   "id": "2a1c6cdc",
   "metadata": {},
   "outputs": [],
   "source": [
    "import pyforest"
   ]
  },
  {
   "cell_type": "code",
   "execution_count": 18,
   "id": "d1e370eb",
   "metadata": {},
   "outputs": [
    {
     "ename": "AttributeError",
     "evalue": "'DataFrame' object has no attribute '_jdf'",
     "output_type": "error",
     "traceback": [
      "\u001b[1;31m---------------------------------------------------------------------------\u001b[0m",
      "\u001b[1;31mAttributeError\u001b[0m                            Traceback (most recent call last)",
      "Input \u001b[1;32mIn [18]\u001b[0m, in \u001b[0;36m<cell line: 6>\u001b[1;34m()\u001b[0m\n\u001b[0;32m      1\u001b[0m \u001b[38;5;28;01mfrom\u001b[39;00m \u001b[38;5;21;01mpyspark\u001b[39;00m\u001b[38;5;21;01m.\u001b[39;00m\u001b[38;5;21;01mml\u001b[39;00m\u001b[38;5;21;01m.\u001b[39;00m\u001b[38;5;21;01mregression\u001b[39;00m \u001b[38;5;28;01mimport\u001b[39;00m LinearRegression\n\u001b[0;32m      4\u001b[0m lr \u001b[38;5;241m=\u001b[39m LinearRegression(maxIter\u001b[38;5;241m=\u001b[39m\u001b[38;5;241m10\u001b[39m, regParam\u001b[38;5;241m=\u001b[39m\u001b[38;5;241m0.3\u001b[39m, elasticNetParam\u001b[38;5;241m=\u001b[39m\u001b[38;5;241m0.8\u001b[39m)\n\u001b[1;32m----> 6\u001b[0m lrModel \u001b[38;5;241m=\u001b[39m \u001b[43mlr\u001b[49m\u001b[38;5;241;43m.\u001b[39;49m\u001b[43mfit\u001b[49m\u001b[43m(\u001b[49m\u001b[43mriskfactor\u001b[49m\u001b[43m[\u001b[49m\u001b[43m[\u001b[49m\u001b[38;5;124;43m'\u001b[39;49m\u001b[38;5;124;43mevents\u001b[39;49m\u001b[38;5;124;43m'\u001b[39;49m\u001b[43m,\u001b[49m\u001b[38;5;124;43m'\u001b[39;49m\u001b[38;5;124;43mtotmiles\u001b[39;49m\u001b[38;5;124;43m'\u001b[39;49m\u001b[43m]\u001b[49m\u001b[43m]\u001b[49m\u001b[43m)\u001b[49m\n",
      "File \u001b[1;32mC:\\spark-3.3.1-bin-hadoop3\\python\\pyspark\\ml\\base.py:205\u001b[0m, in \u001b[0;36mEstimator.fit\u001b[1;34m(self, dataset, params)\u001b[0m\n\u001b[0;32m    203\u001b[0m         \u001b[38;5;28;01mreturn\u001b[39;00m \u001b[38;5;28mself\u001b[39m\u001b[38;5;241m.\u001b[39mcopy(params)\u001b[38;5;241m.\u001b[39m_fit(dataset)\n\u001b[0;32m    204\u001b[0m     \u001b[38;5;28;01melse\u001b[39;00m:\n\u001b[1;32m--> 205\u001b[0m         \u001b[38;5;28;01mreturn\u001b[39;00m \u001b[38;5;28;43mself\u001b[39;49m\u001b[38;5;241;43m.\u001b[39;49m\u001b[43m_fit\u001b[49m\u001b[43m(\u001b[49m\u001b[43mdataset\u001b[49m\u001b[43m)\u001b[49m\n\u001b[0;32m    206\u001b[0m \u001b[38;5;28;01melse\u001b[39;00m:\n\u001b[0;32m    207\u001b[0m     \u001b[38;5;28;01mraise\u001b[39;00m \u001b[38;5;167;01mTypeError\u001b[39;00m(\n\u001b[0;32m    208\u001b[0m         \u001b[38;5;124m\"\u001b[39m\u001b[38;5;124mParams must be either a param map or a list/tuple of param maps, \u001b[39m\u001b[38;5;124m\"\u001b[39m\n\u001b[0;32m    209\u001b[0m         \u001b[38;5;124m\"\u001b[39m\u001b[38;5;124mbut got \u001b[39m\u001b[38;5;132;01m%s\u001b[39;00m\u001b[38;5;124m.\u001b[39m\u001b[38;5;124m\"\u001b[39m \u001b[38;5;241m%\u001b[39m \u001b[38;5;28mtype\u001b[39m(params)\n\u001b[0;32m    210\u001b[0m     )\n",
      "File \u001b[1;32mC:\\spark-3.3.1-bin-hadoop3\\python\\pyspark\\ml\\wrapper.py:383\u001b[0m, in \u001b[0;36mJavaEstimator._fit\u001b[1;34m(self, dataset)\u001b[0m\n\u001b[0;32m    382\u001b[0m \u001b[38;5;28;01mdef\u001b[39;00m \u001b[38;5;21m_fit\u001b[39m(\u001b[38;5;28mself\u001b[39m, dataset: DataFrame) \u001b[38;5;241m-\u001b[39m\u001b[38;5;241m>\u001b[39m JM:\n\u001b[1;32m--> 383\u001b[0m     java_model \u001b[38;5;241m=\u001b[39m \u001b[38;5;28;43mself\u001b[39;49m\u001b[38;5;241;43m.\u001b[39;49m\u001b[43m_fit_java\u001b[49m\u001b[43m(\u001b[49m\u001b[43mdataset\u001b[49m\u001b[43m)\u001b[49m\n\u001b[0;32m    384\u001b[0m     model \u001b[38;5;241m=\u001b[39m \u001b[38;5;28mself\u001b[39m\u001b[38;5;241m.\u001b[39m_create_model(java_model)\n\u001b[0;32m    385\u001b[0m     \u001b[38;5;28;01mreturn\u001b[39;00m \u001b[38;5;28mself\u001b[39m\u001b[38;5;241m.\u001b[39m_copyValues(model)\n",
      "File \u001b[1;32mC:\\spark-3.3.1-bin-hadoop3\\python\\pyspark\\ml\\wrapper.py:380\u001b[0m, in \u001b[0;36mJavaEstimator._fit_java\u001b[1;34m(self, dataset)\u001b[0m\n\u001b[0;32m    377\u001b[0m \u001b[38;5;28;01massert\u001b[39;00m \u001b[38;5;28mself\u001b[39m\u001b[38;5;241m.\u001b[39m_java_obj \u001b[38;5;129;01mis\u001b[39;00m \u001b[38;5;129;01mnot\u001b[39;00m \u001b[38;5;28;01mNone\u001b[39;00m\n\u001b[0;32m    379\u001b[0m \u001b[38;5;28mself\u001b[39m\u001b[38;5;241m.\u001b[39m_transfer_params_to_java()\n\u001b[1;32m--> 380\u001b[0m \u001b[38;5;28;01mreturn\u001b[39;00m \u001b[38;5;28mself\u001b[39m\u001b[38;5;241m.\u001b[39m_java_obj\u001b[38;5;241m.\u001b[39mfit(\u001b[43mdataset\u001b[49m\u001b[38;5;241;43m.\u001b[39;49m\u001b[43m_jdf\u001b[49m)\n",
      "File \u001b[1;32mC:\\ProgramData\\Anaconda3\\lib\\site-packages\\pandas\\core\\generic.py:5575\u001b[0m, in \u001b[0;36mNDFrame.__getattr__\u001b[1;34m(self, name)\u001b[0m\n\u001b[0;32m   5568\u001b[0m \u001b[38;5;28;01mif\u001b[39;00m (\n\u001b[0;32m   5569\u001b[0m     name \u001b[38;5;129;01mnot\u001b[39;00m \u001b[38;5;129;01min\u001b[39;00m \u001b[38;5;28mself\u001b[39m\u001b[38;5;241m.\u001b[39m_internal_names_set\n\u001b[0;32m   5570\u001b[0m     \u001b[38;5;129;01mand\u001b[39;00m name \u001b[38;5;129;01mnot\u001b[39;00m \u001b[38;5;129;01min\u001b[39;00m \u001b[38;5;28mself\u001b[39m\u001b[38;5;241m.\u001b[39m_metadata\n\u001b[0;32m   5571\u001b[0m     \u001b[38;5;129;01mand\u001b[39;00m name \u001b[38;5;129;01mnot\u001b[39;00m \u001b[38;5;129;01min\u001b[39;00m \u001b[38;5;28mself\u001b[39m\u001b[38;5;241m.\u001b[39m_accessors\n\u001b[0;32m   5572\u001b[0m     \u001b[38;5;129;01mand\u001b[39;00m \u001b[38;5;28mself\u001b[39m\u001b[38;5;241m.\u001b[39m_info_axis\u001b[38;5;241m.\u001b[39m_can_hold_identifiers_and_holds_name(name)\n\u001b[0;32m   5573\u001b[0m ):\n\u001b[0;32m   5574\u001b[0m     \u001b[38;5;28;01mreturn\u001b[39;00m \u001b[38;5;28mself\u001b[39m[name]\n\u001b[1;32m-> 5575\u001b[0m \u001b[38;5;28;01mreturn\u001b[39;00m \u001b[38;5;28;43mobject\u001b[39;49m\u001b[38;5;241;43m.\u001b[39;49m\u001b[38;5;21;43m__getattribute__\u001b[39;49m\u001b[43m(\u001b[49m\u001b[38;5;28;43mself\u001b[39;49m\u001b[43m,\u001b[49m\u001b[43m \u001b[49m\u001b[43mname\u001b[49m\u001b[43m)\u001b[49m\n",
      "\u001b[1;31mAttributeError\u001b[0m: 'DataFrame' object has no attribute '_jdf'"
     ]
    }
   ],
   "source": [
    "from pyspark.ml.regression import LinearRegression\n",
    "\n",
    "\n",
    "lr = LinearRegression(maxIter=10, regParam=0.3, elasticNetParam=0.8)\n",
    "\n",
    "lrModel = lr.fit(riskfactor[['events','totmiles']])"
   ]
  },
  {
   "cell_type": "code",
   "execution_count": null,
   "id": "571e27a2",
   "metadata": {},
   "outputs": [],
   "source": []
  },
  {
   "cell_type": "code",
   "execution_count": null,
   "id": "df6e9feb",
   "metadata": {},
   "outputs": [],
   "source": []
  },
  {
   "cell_type": "code",
   "execution_count": 6,
   "id": "fa826093",
   "metadata": {},
   "outputs": [
    {
     "data": {
      "text/html": [
       "<div>\n",
       "<style scoped>\n",
       "    .dataframe tbody tr th:only-of-type {\n",
       "        vertical-align: middle;\n",
       "    }\n",
       "\n",
       "    .dataframe tbody tr th {\n",
       "        vertical-align: top;\n",
       "    }\n",
       "\n",
       "    .dataframe thead th {\n",
       "        text-align: right;\n",
       "    }\n",
       "</style>\n",
       "<table border=\"1\" class=\"dataframe\">\n",
       "  <thead>\n",
       "    <tr style=\"text-align: right;\">\n",
       "      <th></th>\n",
       "      <th>truckid</th>\n",
       "      <th>driverid</th>\n",
       "      <th>event</th>\n",
       "      <th>latitude</th>\n",
       "      <th>longitude</th>\n",
       "      <th>city</th>\n",
       "      <th>state</th>\n",
       "      <th>velocity</th>\n",
       "      <th>event_ind</th>\n",
       "      <th>idling_ind</th>\n",
       "    </tr>\n",
       "  </thead>\n",
       "  <tbody>\n",
       "    <tr>\n",
       "      <th>0</th>\n",
       "      <td>truckid</td>\n",
       "      <td>driverid</td>\n",
       "      <td>event</td>\n",
       "      <td>NaN</td>\n",
       "      <td>NaN</td>\n",
       "      <td>city</td>\n",
       "      <td>state</td>\n",
       "      <td>NaN</td>\n",
       "      <td>NaN</td>\n",
       "      <td>NaN</td>\n",
       "    </tr>\n",
       "    <tr>\n",
       "      <th>1</th>\n",
       "      <td>A54</td>\n",
       "      <td>A54</td>\n",
       "      <td>normal</td>\n",
       "      <td>38.440467</td>\n",
       "      <td>-122.714431</td>\n",
       "      <td>Santa Rosa</td>\n",
       "      <td>California</td>\n",
       "      <td>17.0</td>\n",
       "      <td>0.0</td>\n",
       "      <td>0.0</td>\n",
       "    </tr>\n",
       "    <tr>\n",
       "      <th>2</th>\n",
       "      <td>A20</td>\n",
       "      <td>A20</td>\n",
       "      <td>normal</td>\n",
       "      <td>36.977173</td>\n",
       "      <td>-121.899402</td>\n",
       "      <td>Aptos</td>\n",
       "      <td>California</td>\n",
       "      <td>27.0</td>\n",
       "      <td>0.0</td>\n",
       "      <td>0.0</td>\n",
       "    </tr>\n",
       "    <tr>\n",
       "      <th>3</th>\n",
       "      <td>A40</td>\n",
       "      <td>A40</td>\n",
       "      <td>overspeed</td>\n",
       "      <td>37.957702</td>\n",
       "      <td>-121.290780</td>\n",
       "      <td>Stockton</td>\n",
       "      <td>California</td>\n",
       "      <td>77.0</td>\n",
       "      <td>1.0</td>\n",
       "      <td>0.0</td>\n",
       "    </tr>\n",
       "    <tr>\n",
       "      <th>4</th>\n",
       "      <td>A31</td>\n",
       "      <td>A31</td>\n",
       "      <td>normal</td>\n",
       "      <td>39.409608</td>\n",
       "      <td>-123.355566</td>\n",
       "      <td>Willits</td>\n",
       "      <td>California</td>\n",
       "      <td>22.0</td>\n",
       "      <td>0.0</td>\n",
       "      <td>0.0</td>\n",
       "    </tr>\n",
       "  </tbody>\n",
       "</table>\n",
       "</div>"
      ],
      "text/plain": [
       "   truckid  driverid      event   latitude   longitude        city  \\\n",
       "0  truckid  driverid      event        NaN         NaN        city   \n",
       "1      A54       A54     normal  38.440467 -122.714431  Santa Rosa   \n",
       "2      A20       A20     normal  36.977173 -121.899402       Aptos   \n",
       "3      A40       A40  overspeed  37.957702 -121.290780    Stockton   \n",
       "4      A31       A31     normal  39.409608 -123.355566     Willits   \n",
       "\n",
       "        state  velocity  event_ind  idling_ind  \n",
       "0       state       NaN        NaN         NaN  \n",
       "1  California      17.0        0.0         0.0  \n",
       "2  California      27.0        0.0         0.0  \n",
       "3  California      77.0        1.0         0.0  \n",
       "4  California      22.0        0.0         0.0  "
      ]
     },
     "execution_count": 6,
     "metadata": {},
     "output_type": "execute_result"
    }
   ],
   "source": [
    "geolocation.head()"
   ]
  },
  {
   "cell_type": "code",
   "execution_count": 8,
   "id": "c58dde49",
   "metadata": {},
   "outputs": [
    {
     "data": {
      "text/html": [
       "<div>\n",
       "<style scoped>\n",
       "    .dataframe tbody tr th:only-of-type {\n",
       "        vertical-align: middle;\n",
       "    }\n",
       "\n",
       "    .dataframe tbody tr th {\n",
       "        vertical-align: top;\n",
       "    }\n",
       "\n",
       "    .dataframe thead th {\n",
       "        text-align: right;\n",
       "    }\n",
       "</style>\n",
       "<table border=\"1\" class=\"dataframe\">\n",
       "  <thead>\n",
       "    <tr style=\"text-align: right;\">\n",
       "      <th></th>\n",
       "      <th>driverid</th>\n",
       "      <th>totmiles</th>\n",
       "    </tr>\n",
       "  </thead>\n",
       "  <tbody>\n",
       "    <tr>\n",
       "      <th>0</th>\n",
       "      <td>A1</td>\n",
       "      <td>628507</td>\n",
       "    </tr>\n",
       "    <tr>\n",
       "      <th>1</th>\n",
       "      <td>A10</td>\n",
       "      <td>675377</td>\n",
       "    </tr>\n",
       "    <tr>\n",
       "      <th>2</th>\n",
       "      <td>A100</td>\n",
       "      <td>634338</td>\n",
       "    </tr>\n",
       "    <tr>\n",
       "      <th>3</th>\n",
       "      <td>A11</td>\n",
       "      <td>652452</td>\n",
       "    </tr>\n",
       "    <tr>\n",
       "      <th>4</th>\n",
       "      <td>A12</td>\n",
       "      <td>668241</td>\n",
       "    </tr>\n",
       "  </tbody>\n",
       "</table>\n",
       "</div>"
      ],
      "text/plain": [
       "  driverid  totmiles\n",
       "0       A1    628507\n",
       "1      A10    675377\n",
       "2     A100    634338\n",
       "3      A11    652452\n",
       "4      A12    668241"
      ]
     },
     "execution_count": 8,
     "metadata": {},
     "output_type": "execute_result"
    }
   ],
   "source": [
    "drivermileage.head()"
   ]
  },
  {
   "cell_type": "code",
   "execution_count": 9,
   "id": "ee8600fa",
   "metadata": {},
   "outputs": [
    {
     "data": {
      "text/html": [
       "<div>\n",
       "<style scoped>\n",
       "    .dataframe tbody tr th:only-of-type {\n",
       "        vertical-align: middle;\n",
       "    }\n",
       "\n",
       "    .dataframe tbody tr th {\n",
       "        vertical-align: top;\n",
       "    }\n",
       "\n",
       "    .dataframe thead th {\n",
       "        text-align: right;\n",
       "    }\n",
       "</style>\n",
       "<table border=\"1\" class=\"dataframe\">\n",
       "  <thead>\n",
       "    <tr style=\"text-align: right;\">\n",
       "      <th></th>\n",
       "      <th>truckid</th>\n",
       "      <th>driverid</th>\n",
       "      <th>event</th>\n",
       "      <th>latitude</th>\n",
       "      <th>longitude</th>\n",
       "      <th>city</th>\n",
       "      <th>state</th>\n",
       "      <th>velocity</th>\n",
       "      <th>event_ind</th>\n",
       "      <th>idling_ind</th>\n",
       "    </tr>\n",
       "  </thead>\n",
       "  <tbody>\n",
       "    <tr>\n",
       "      <th>3</th>\n",
       "      <td>A40</td>\n",
       "      <td>A40</td>\n",
       "      <td>overspeed</td>\n",
       "      <td>37.957702</td>\n",
       "      <td>-121.290780</td>\n",
       "      <td>Stockton</td>\n",
       "      <td>California</td>\n",
       "      <td>77.0</td>\n",
       "      <td>1.0</td>\n",
       "      <td>0.0</td>\n",
       "    </tr>\n",
       "    <tr>\n",
       "      <th>13</th>\n",
       "      <td>A5</td>\n",
       "      <td>A5</td>\n",
       "      <td>unsafe following distance</td>\n",
       "      <td>41.526509</td>\n",
       "      <td>-124.038407</td>\n",
       "      <td>Klamath</td>\n",
       "      <td>California</td>\n",
       "      <td>33.0</td>\n",
       "      <td>1.0</td>\n",
       "      <td>0.0</td>\n",
       "    </tr>\n",
       "    <tr>\n",
       "      <th>15</th>\n",
       "      <td>A48</td>\n",
       "      <td>A48</td>\n",
       "      <td>overspeed</td>\n",
       "      <td>38.752124</td>\n",
       "      <td>-121.288006</td>\n",
       "      <td>Roseville</td>\n",
       "      <td>California</td>\n",
       "      <td>77.0</td>\n",
       "      <td>1.0</td>\n",
       "      <td>0.0</td>\n",
       "    </tr>\n",
       "    <tr>\n",
       "      <th>25</th>\n",
       "      <td>A49</td>\n",
       "      <td>A49</td>\n",
       "      <td>lane departure</td>\n",
       "      <td>39.150171</td>\n",
       "      <td>-123.207783</td>\n",
       "      <td>Ukiah</td>\n",
       "      <td>California</td>\n",
       "      <td>41.0</td>\n",
       "      <td>1.0</td>\n",
       "      <td>0.0</td>\n",
       "    </tr>\n",
       "    <tr>\n",
       "      <th>86</th>\n",
       "      <td>A97</td>\n",
       "      <td>A97</td>\n",
       "      <td>overspeed</td>\n",
       "      <td>38.440467</td>\n",
       "      <td>-122.714431</td>\n",
       "      <td>Santa Rosa</td>\n",
       "      <td>California</td>\n",
       "      <td>33.0</td>\n",
       "      <td>1.0</td>\n",
       "      <td>0.0</td>\n",
       "    </tr>\n",
       "    <tr>\n",
       "      <th>...</th>\n",
       "      <td>...</td>\n",
       "      <td>...</td>\n",
       "      <td>...</td>\n",
       "      <td>...</td>\n",
       "      <td>...</td>\n",
       "      <td>...</td>\n",
       "      <td>...</td>\n",
       "      <td>...</td>\n",
       "      <td>...</td>\n",
       "      <td>...</td>\n",
       "    </tr>\n",
       "    <tr>\n",
       "      <th>7877</th>\n",
       "      <td>A27</td>\n",
       "      <td>A27</td>\n",
       "      <td>unsafe following distance</td>\n",
       "      <td>39.409608</td>\n",
       "      <td>-123.355566</td>\n",
       "      <td>Willits</td>\n",
       "      <td>California</td>\n",
       "      <td>54.0</td>\n",
       "      <td>1.0</td>\n",
       "      <td>0.0</td>\n",
       "    </tr>\n",
       "    <tr>\n",
       "      <th>7895</th>\n",
       "      <td>A90</td>\n",
       "      <td>A90</td>\n",
       "      <td>unsafe following distance</td>\n",
       "      <td>39.017396</td>\n",
       "      <td>-122.057748</td>\n",
       "      <td>Arbuckle</td>\n",
       "      <td>California</td>\n",
       "      <td>31.0</td>\n",
       "      <td>1.0</td>\n",
       "      <td>0.0</td>\n",
       "    </tr>\n",
       "    <tr>\n",
       "      <th>7943</th>\n",
       "      <td>A84</td>\n",
       "      <td>A84</td>\n",
       "      <td>overspeed</td>\n",
       "      <td>33.663357</td>\n",
       "      <td>-116.310009</td>\n",
       "      <td>La Quinta</td>\n",
       "      <td>California</td>\n",
       "      <td>81.0</td>\n",
       "      <td>1.0</td>\n",
       "      <td>0.0</td>\n",
       "    </tr>\n",
       "    <tr>\n",
       "      <th>7977</th>\n",
       "      <td>A97</td>\n",
       "      <td>A97</td>\n",
       "      <td>unsafe tail distance</td>\n",
       "      <td>36.977173</td>\n",
       "      <td>-121.899402</td>\n",
       "      <td>Aptos</td>\n",
       "      <td>California</td>\n",
       "      <td>66.0</td>\n",
       "      <td>1.0</td>\n",
       "      <td>0.0</td>\n",
       "    </tr>\n",
       "    <tr>\n",
       "      <th>7978</th>\n",
       "      <td>A77</td>\n",
       "      <td>A77</td>\n",
       "      <td>overspeed</td>\n",
       "      <td>34.136119</td>\n",
       "      <td>-117.865339</td>\n",
       "      <td>Glendora</td>\n",
       "      <td>California</td>\n",
       "      <td>88.0</td>\n",
       "      <td>1.0</td>\n",
       "      <td>0.0</td>\n",
       "    </tr>\n",
       "  </tbody>\n",
       "</table>\n",
       "<p>391 rows × 10 columns</p>\n",
       "</div>"
      ],
      "text/plain": [
       "     truckid driverid                      event   latitude   longitude  \\\n",
       "3        A40      A40                  overspeed  37.957702 -121.290780   \n",
       "13        A5       A5  unsafe following distance  41.526509 -124.038407   \n",
       "15       A48      A48                  overspeed  38.752124 -121.288006   \n",
       "25       A49      A49             lane departure  39.150171 -123.207783   \n",
       "86       A97      A97                  overspeed  38.440467 -122.714431   \n",
       "...      ...      ...                        ...        ...         ...   \n",
       "7877     A27      A27  unsafe following distance  39.409608 -123.355566   \n",
       "7895     A90      A90  unsafe following distance  39.017396 -122.057748   \n",
       "7943     A84      A84                  overspeed  33.663357 -116.310009   \n",
       "7977     A97      A97       unsafe tail distance  36.977173 -121.899402   \n",
       "7978     A77      A77                  overspeed  34.136119 -117.865339   \n",
       "\n",
       "            city       state  velocity  event_ind  idling_ind  \n",
       "3       Stockton  California      77.0        1.0         0.0  \n",
       "13       Klamath  California      33.0        1.0         0.0  \n",
       "15     Roseville  California      77.0        1.0         0.0  \n",
       "25         Ukiah  California      41.0        1.0         0.0  \n",
       "86    Santa Rosa  California      33.0        1.0         0.0  \n",
       "...          ...         ...       ...        ...         ...  \n",
       "7877     Willits  California      54.0        1.0         0.0  \n",
       "7895    Arbuckle  California      31.0        1.0         0.0  \n",
       "7943   La Quinta  California      81.0        1.0         0.0  \n",
       "7977       Aptos  California      66.0        1.0         0.0  \n",
       "7978    Glendora  California      88.0        1.0         0.0  \n",
       "\n",
       "[391 rows x 10 columns]"
      ]
     },
     "execution_count": 9,
     "metadata": {},
     "output_type": "execute_result"
    }
   ],
   "source": [
    "geolocation.query(\"event != 'normal' & event_ind == 1 & idling_ind == 0\")"
   ]
  },
  {
   "cell_type": "code",
   "execution_count": null,
   "id": "58c1aad6",
   "metadata": {},
   "outputs": [],
   "source": []
  },
  {
   "cell_type": "code",
   "execution_count": null,
   "id": "bcba52ba",
   "metadata": {},
   "outputs": [],
   "source": []
  },
  {
   "cell_type": "code",
   "execution_count": null,
   "id": "06eb0788",
   "metadata": {},
   "outputs": [],
   "source": []
  },
  {
   "cell_type": "code",
   "execution_count": null,
   "id": "096f6bc8",
   "metadata": {},
   "outputs": [],
   "source": []
  },
  {
   "cell_type": "code",
   "execution_count": null,
   "id": "3b4f669e",
   "metadata": {},
   "outputs": [],
   "source": []
  }
 ],
 "metadata": {
  "kernelspec": {
   "display_name": "Python 3",
   "language": "python",
   "name": "python3"
  },
  "language_info": {
   "codemirror_mode": {
    "name": "ipython",
    "version": 3
   },
   "file_extension": ".py",
   "mimetype": "text/x-python",
   "name": "python",
   "nbconvert_exporter": "python",
   "pygments_lexer": "ipython3",
   "version": "3.9.12"
  }
 },
 "nbformat": 4,
 "nbformat_minor": 5
}
